{
  "nbformat": 4,
  "nbformat_minor": 0,
  "metadata": {
    "kernelspec": {
      "display_name": "Python 3",
      "language": "python",
      "name": "python3"
    },
    "language_info": {
      "codemirror_mode": {
        "name": "ipython",
        "version": 3
      },
      "file_extension": ".py",
      "mimetype": "text/x-python",
      "name": "python",
      "nbconvert_exporter": "python",
      "pygments_lexer": "ipython3",
      "version": "3.6.8-final"
    },
    "colab": {
      "name": "EN1060_Lab03_1.ipynb",
      "provenance": [],
      "collapsed_sections": [
        "jZDvAwFxGQSE",
        "bHf_-zgCGQSU",
        "7WYmFe25GQSX",
        "xbTaFMyPGQSb",
        "kCjFSm_AGQSe",
        "GZ3buuFFGQSo",
        "3gmKLOUuGQSz",
        "7btjLKhEGQS6",
        "rHLog7ZdGQTJ",
        "ry4tfTw-GQTM",
        "shyKfU7UGQTX",
        "IEGVfHWZGQTc",
        "kBiYv9c0GQTk",
        "YwLkwhWEGQTo"
      ]
    }
  },
  "cells": [
    {
      "cell_type": "markdown",
      "metadata": {
        "id": "LAr7c5TbGQQQ"
      },
      "source": [
        "![](https://drive.google.com/uc?id=11obWVVXPLfBElGh5hXm1QBfqLHLns1ST)"
      ]
    },
    {
      "cell_type": "markdown",
      "metadata": {
        "id": "odb7Z6OLGQRK"
      },
      "source": [
        "---\n",
        "**Experiment 3: Linear Time-Inviariant Systems**\n",
        "\n",
        "\n",
        "---\n",
        "\n",
        "**Objective:** To understand the LTI properties\n",
        "\n",
        "**Outcome:**   After successfully completion of this session, the student would be able to  \n",
        "\n",
        "* Understand the impulse response of a system.\n",
        "* Understand the properties of linearity and time-invariance.\n",
        "* Apply above properties to generate system output using convolution.\n",
        "* Analyze signals in the frequency domain.\n",
        "* Apply above knowledge in a real-world application.\n",
        "\n",
        "**Equipment Required:** \n",
        "*   A personal computer.\n",
        "*   Python with NumPy, SciPy, Matplotlib.\n",
        "*   Speakers\n",
        "\n",
        "**Components Required:** None\n"
      ]
    },
    {
      "cell_type": "markdown",
      "metadata": {
        "id": "14cnFUogGQRV"
      },
      "source": [
        "# Introduction\n",
        "\n",
        "In this laboratory we will be studying the properties of linearity and time-invariance and how we can exploit these properties to calculate the system response using only the input signal and impulse response of the system."
      ]
    },
    {
      "cell_type": "markdown",
      "metadata": {
        "id": "EvHErYY1GQRY"
      },
      "source": [
        "# 1.0 Simulating a System Impulse Response\n",
        "\n",
        "Impulse response $h[n]$ of a system is the output of a system to an impulse input, $\\delta[n]$. First, we shall try to find the impulse response of an accumulator.\n",
        "\n",
        "## 1.1 Simple example of impulse response: The Accumulator\n",
        "\n",
        "The accumulator (system) is defined as below. \n",
        "\\begin{equation*}\n",
        "y[n] = acc\\{x[n]\\} \\to y[n] =  \\sum_{k=-\\infty}^n x[k] \n",
        "\\end{equation*}\n",
        "\n",
        "In simple terms, the current output of the accumulator is the sum (accumulation) of all the previous inputs up to the current input.\n",
        "\n",
        "First, begin your implementation by defining the impulse function, $\\delta [n]$."
      ]
    },
    {
      "cell_type": "code",
      "metadata": {
        "scrolled": false,
        "id": "nipJLSq4GQRa"
      },
      "source": [
        "%matplotlib inline\n",
        "import numpy as np\n",
        "import matplotlib.pyplot as plt\n",
        "\n",
        "# Define the impulse function\n",
        "def delta(t):\n",
        "    x = np.zeros(len(t))\n",
        "    for i,n in enumerate(t):\n",
        "        if n == 0:\n",
        "            x[i] = 1.0\n",
        "    return x\n",
        "\n",
        "# Visualize the impulse function\n",
        "fig, axes  = plt.subplots(1,2, sharex='all', sharey='all', figsize=(20,3))\n",
        "t = np.arange(-5,5)\n",
        "x = delta(t)\n",
        "axes[0].stem(t,x), axes[0].set_xlabel('$n$'), axes[0].set_ylabel('$delta[n]$')\n",
        "\n",
        "# shift the delta left by 2\n",
        "x = delta(t+2)\n",
        "axes[1].stem(t,x), axes[1].set_xlabel('$n$'), axes[1].set_ylabel('$delta[n+2]$')"
      ],
      "execution_count": null,
      "outputs": []
    },
    {
      "cell_type": "markdown",
      "metadata": {
        "id": "1i8IA_F5GQRf"
      },
      "source": [
        "Complete the function ```accumulator(x)``` below to return an array in which each index contains the accumulation of all previous values in the input array. After that, visualize the output of the accumulator to a delta input (i.e., its impulse response). "
      ]
    },
    {
      "cell_type": "code",
      "metadata": {
        "id": "MYgEWuQYGQRi"
      },
      "source": [
        "def accumulator(x):\n",
        "    y = np.zeros(len(x))\n",
        "    for i in range(len(x)):\n",
        "        # EDIT HERE\n",
        "        y[i] = <--->\n",
        "    return y\n",
        "\n",
        "# Visualize impulse response of Accumalator\n",
        "t = np.arange(-10., 11.)\n",
        "x = delta(t) # EDIT HERE\n",
        "y = accumulator(x)\n",
        "\n",
        "fig, axes  = plt.subplots(2,1, sharex='all', sharey='all', figsize=(20,5))\n",
        "axes[0].stem(t,x), axes[0].set_xlabel('$n$'), axes[0].set_ylabel('$x[n]$')\n",
        "axes[1].stem(t,y), axes[1].set_xlabel('$n$'), axes[1].set_ylabel('$y[n]$')\n",
        "plt.show()"
      ],
      "execution_count": null,
      "outputs": []
    },
    {
      "cell_type": "markdown",
      "metadata": {
        "id": "kvVFC5KCGQRm"
      },
      "source": [
        "Implement an ‘accumulator with decay’ and plot its impulse response. The accumulator with decay is defined as below. \n",
        "\n",
        "\\begin{equation*}\n",
        "y[n] = \\sum_{k=-\\infty}^{n} x[k] e^{-0.5[n-k]}\n",
        "\\end{equation*}\n"
      ]
    },
    {
      "cell_type": "code",
      "metadata": {
        "id": "O4CoZSQIGQRq"
      },
      "source": [
        "# cell [2]\n",
        "\n",
        "def accumulator_decay(x):\n",
        "    y = np.zeros(len(x))\n",
        "    for i in range(len(x)):\n",
        "        # EDIT HERE\n",
        "        y[i] = <--->\n",
        "    return y\n",
        "\n",
        "x = delta(t)\n",
        "y = accumulator_decay(x)\n",
        "\n",
        "fig, ax  = plt.subplots(figsize=(20,3))\n",
        "ax.stem(t,y), ax.set_xlabel('$n$'), ax.set_ylabel('$y[n]$')\n",
        "ax.set_xticks([i for i in range(-10, 11, 1)])\n",
        "plt.show()"
      ],
      "execution_count": null,
      "outputs": []
    },
    {
      "cell_type": "markdown",
      "metadata": {
        "id": "Gy-zM04XGQRt"
      },
      "source": [
        "Construct the following signal $x[n]$ using the ```delta(t)``` function."
      ]
    },
    {
      "cell_type": "markdown",
      "metadata": {
        "id": "nrLS17V6GQRw"
      },
      "source": [
        "![](https://drive.google.com/uc?export=view&id=1Lyblke6EeRjE19Ploj_F1YxzV2IS__L4)"
      ]
    },
    {
      "cell_type": "code",
      "metadata": {
        "scrolled": true,
        "id": "czcwX6agGQRy"
      },
      "source": [
        "# cell [3]\n",
        "\n",
        "n_x = np.arange(-1., 15.)\n",
        "# EDIT HERE\n",
        "x_new = <--->\n",
        "\n",
        "fig, axes  = plt.subplots(figsize=(20,3))\n",
        "axes.stem(n_x,x_new), axes.set_xlabel('$n$'), axes.set_ylabel('$x_new[n]$')\n",
        "plt.show()"
      ],
      "execution_count": null,
      "outputs": []
    },
    {
      "cell_type": "markdown",
      "metadata": {
        "id": "cVvPXpl7GQR1"
      },
      "source": [
        "Now plot the response of the \"accumulator with delay\" system to the above input."
      ]
    },
    {
      "cell_type": "code",
      "metadata": {
        "scrolled": false,
        "id": "6EqWK0H-GQR3"
      },
      "source": [
        "# cell [4]\n",
        "\n",
        "y = accumulator_decay(x_new)\n",
        "\n",
        "fig, axes  = plt.subplots(figsize=(20,3))\n",
        "axes.stem(n_x,y), axes.set_xlabel('$n$'), axes.set_ylabel('$y[n]$')\n",
        "plt.show()"
      ],
      "execution_count": null,
      "outputs": []
    },
    {
      "cell_type": "markdown",
      "metadata": {
        "id": "o3FdoiRDGQR6"
      },
      "source": [
        "$\\color{red}{\\text{Please show your work up to this point to an instructor and get it marked}}$"
      ]
    },
    {
      "cell_type": "markdown",
      "metadata": {
        "id": "B9f6YqyTGQR-"
      },
      "source": [
        "# 2.0 Understanding linearity\n",
        "\n",
        "A linear system (continous time or discrete time), is a system a that possesses the important property of superposition. The superposition property encompasses the characteristics of additivity and homogeneity (scaling). This can be mathematically expressed as follows.\n",
        "\n",
        "Let $y_1[n]$ be the response of a discrete-time system to an input $x_1[n]$, and let $y_2[n]$ be the response corresponding to the input $x_2[n]$. Then, the system is linear if, \n",
        "\n",
        "* The response to $x_1[n] + x_2[n]$ is $y_1[n] + y_2[n]$ (additivity),\n",
        "* The response to $ax_1[n]$ is $ay_1[n]$, where $a$ is any complex constant (homogeneity)\n",
        "\n",
        "Additivity and homogeneity can be expressed together as follows. Let $x_1[n]$ and $x_2[n]$ be the inputs to a system $S$. We say that the system $S$ is linear, if \n",
        "\n",
        "$$S\\{ax_1[n] + bx_2[n]\\} = aS\\{x_1[n]\\} + bS\\{x_2[n]\\}$$\n",
        "\n",
        "where, $a$ and $b$ are complex constants.\n",
        "\n",
        "Let's determine whether the accumulator obeys the property of linearity.\n"
      ]
    },
    {
      "cell_type": "markdown",
      "metadata": {
        "id": "jZDvAwFxGQSE"
      },
      "source": [
        "## 2.1 A Simple Example of a Linear System: The Accumulator\n",
        "\n",
        "First, visualize the response of the accumulator to the inputs $x_1[n] = \\delta[n]$ and $x_2[n] = \\delta[n+2]$\n"
      ]
    },
    {
      "cell_type": "code",
      "metadata": {
        "id": "23raIb4qGQSH"
      },
      "source": [
        "# cell [5]\n",
        "\n",
        "t = np.arange(-5., 5.)\n",
        "x1 = delta(t)\n",
        "x2 = delta(t+2)\n",
        "\n",
        "y1 = accumulator(x1)\n",
        "y2 = accumulator(x2)\n",
        "\n",
        "fig, axes  = plt.subplots(2,2, sharex='all', sharey='all', figsize=(20,5))\n",
        "axes[0,0].stem(t,x1), axes[0,0].set_xlabel('$n$'), axes[0,0].set_ylabel('$x_1[n]$')\n",
        "axes[0,1].stem(t,y1), axes[0,1].set_xlabel('$n$'), axes[0,1].set_ylabel('$y_1[n]$')\n",
        "axes[1,0].stem(t,x2), axes[1,0].set_xlabel('$n$'), axes[1,0].set_ylabel('$x_2[n]$')\n",
        "axes[1,1].stem(t,y2), axes[1,1].set_xlabel('$n$'), axes[1,1].set_ylabel('$y_2[n]$')\n",
        "plt.show()"
      ],
      "execution_count": null,
      "outputs": []
    },
    {
      "cell_type": "markdown",
      "metadata": {
        "id": "-PDufaRaGQSL"
      },
      "source": [
        "Now, in the following cell, plot the following signals :\n",
        "\n",
        "$$s_1[n] = a \\times acc\\{x_1[n]\\} + b \\times acc\\{x_2[n]\\}$$\n",
        "$$s_2[n] = acc\\{a x_1[n] + b x_2[n]\\}$$ \n",
        "\n",
        "Here, \"$acc\\{ . \\}$\" denotes the ```accumulator(x)```\n",
        "function."
      ]
    },
    {
      "cell_type": "code",
      "metadata": {
        "id": "Zg4UWAwXGQSO"
      },
      "source": [
        "# cell [6]\n",
        "\n",
        "a = 2\n",
        "b = -1\n",
        "\n",
        "# EDIT HERE\n",
        "s1 = <--->\n",
        "s2 = <--->\n",
        "\n",
        "fig, axes  = plt.subplots(1,2, sharex='all', sharey='all', figsize=(20,5))\n",
        "axes[0].stem(t,s1), axes[0].set_xlabel('$n$'), axes[0].set_ylabel('$S\\{a*x_1 [n] + b*x_2 [n]\\}$')\n",
        "axes[1].stem(t,s2), axes[1].set_xlabel('$n$'), axes[1].set_ylabel('$a*y_1 [n] + b*y_2 [n]$')\n",
        "plt.show()"
      ],
      "execution_count": null,
      "outputs": []
    },
    {
      "cell_type": "markdown",
      "metadata": {
        "id": "bHf_-zgCGQSU"
      },
      "source": [
        "### Comment your observations below. Based on your observations, discuss the linearity of the accumulator system."
      ]
    },
    {
      "cell_type": "markdown",
      "metadata": {
        "id": "PwVVOrUwGQSW"
      },
      "source": [
        "<--type-in your answer here-->"
      ]
    },
    {
      "cell_type": "markdown",
      "metadata": {
        "id": "7WYmFe25GQSX"
      },
      "source": [
        "## 2.2 A Simple Example of a Non-Linear System: The Squarer"
      ]
    },
    {
      "cell_type": "code",
      "metadata": {
        "id": "ZkdoTiwJGQSZ"
      },
      "source": [
        "# cell [7]\n",
        "\n",
        "def square(x):\n",
        "    return np.multiply(x,x)\n",
        "\n",
        "x1 = np.ones(5)\n",
        "x2 = 2*np.ones(5)\n",
        "a = 2\n",
        "b = -1\n",
        "\n",
        "print(a*square(x1) + b*square(x2))\n",
        "print(square(a*x1 + b*x2))\n"
      ],
      "execution_count": null,
      "outputs": []
    },
    {
      "cell_type": "markdown",
      "metadata": {
        "id": "xbTaFMyPGQSb"
      },
      "source": [
        "### Discuss your observations about the output of the above cell."
      ]
    },
    {
      "cell_type": "markdown",
      "metadata": {
        "id": "c7DjN89EGQSd"
      },
      "source": [
        "<--type-in your answer here-->"
      ]
    },
    {
      "cell_type": "markdown",
      "metadata": {
        "id": "kCjFSm_AGQSe"
      },
      "source": [
        "### Determine whether the following functions (systems) are linear :\n",
        "\n",
        "* $y = 3x + 1$\n",
        "* $y = x^3$\n"
      ]
    },
    {
      "cell_type": "markdown",
      "metadata": {
        "id": "GiOwelwdGQSh"
      },
      "source": [
        "<--type-in your answer here-->"
      ]
    },
    {
      "cell_type": "markdown",
      "metadata": {
        "id": "LvH09ib0GQSj"
      },
      "source": [
        "$\\color{red}{\\text{Please show your work up to this point to an instructor and get it marked}}$"
      ]
    },
    {
      "cell_type": "markdown",
      "metadata": {
        "id": "tk5hz0f8GQSl"
      },
      "source": [
        "# 3.0 Understanding Time-Invariance\n",
        "\n",
        "We call that a system (continuous time or discrete time) is time-invariant if the behavior or the characteristics of the system are fixed over time. Specifically, a system is time-invariant if a time-shift in the input signal results in an identical time-shit in the output signal. This can be expressed using the following mathematical statement.\n",
        "\n",
        "Let $x[n]$ be an input to the system $S$. We say that the system, $S$ is time-invariant if the following condition is met :\n",
        "\n",
        "$$S\\{x[n]\\} = y[n] \\implies S\\{x[n-n_0]\\} = y[n-n_0]$$ \n"
      ]
    },
    {
      "cell_type": "markdown",
      "metadata": {
        "id": "GZ3buuFFGQSo"
      },
      "source": [
        "## 3.1 A Simple Example of a Time-Invariant System: The Accumulator"
      ]
    },
    {
      "cell_type": "code",
      "metadata": {
        "id": "sishx-4wGQSu"
      },
      "source": [
        "# cell [8]\n",
        "\n",
        "def function1(t):\n",
        "    if (t < 0.):\n",
        "        return 0.\n",
        "    elif (t < 5.):\n",
        "        return 1.\n",
        "    elif (t < 10.):\n",
        "        return 2. - 0.2*t\n",
        "    else:\n",
        "        return 0.\n",
        "\n",
        "t = np.arange(-5, 20, 1) \n",
        "fig, axes  = plt.subplots(2,2, sharey='all', figsize=(20,10))\n",
        "\n",
        "# x(t)\n",
        "x_t = [function1(t_) for t_ in t]\n",
        "axes[0,0].stem(t, x_t) \n",
        "axes[0,0].set_xlabel('$n$'), axes[0,0].set_ylabel('$x[n]$'), axes[0,0].grid(True)\n",
        "# y(t)\n",
        "y_t = accumulator(x_t)\n",
        "axes[0,1].stem(t, y_t) \n",
        "axes[0,1].set_xlabel('$n$'), axes[0,1].set_ylabel('$y[n]$'), axes[0,1].grid(True)\n",
        "\n",
        "# x(t - 5)\n",
        "x_t_1 = [function1(t_ - 5) for t_ in t]\n",
        "axes[1,0].stem(t, x_t_1)\n",
        "axes[1,0].set_xlabel('$n$'), axes[1,0].set_ylabel('$x[n-1]$'), axes[1,0].grid(True)\n",
        "\n",
        "# y(t - 1)\n",
        "y_t_1 = accumulator(x_t_1)\n",
        "axes[1,1].stem(t, y_t_1)\n",
        "axes[1,1].set_xlabel('$n$'), axes[1,1].set_ylabel('$y[n-1])$'), axes[1,1].grid(True)\n",
        "\n",
        "plt.show()"
      ],
      "execution_count": null,
      "outputs": []
    },
    {
      "cell_type": "markdown",
      "metadata": {
        "id": "3gmKLOUuGQSz"
      },
      "source": [
        "### Discuss your observations about the output of the cell above."
      ]
    },
    {
      "cell_type": "markdown",
      "metadata": {
        "id": "m1-khWbyGQS4"
      },
      "source": [
        "<--type-in your answer here-->"
      ]
    },
    {
      "cell_type": "markdown",
      "metadata": {
        "id": "7btjLKhEGQS6"
      },
      "source": [
        "## 3.2 Simple Example of a Time-Variant System: The Modulator\n",
        "\n",
        "Conisder the modulator system defined below. \n",
        "\n",
        "$$y[n] = \\sin(\\frac{\\pi}{5} n) x[n]$$\n",
        "\n",
        "Implement the modulator function in the cell below and observe the cell outputs.\n"
      ]
    },
    {
      "cell_type": "code",
      "metadata": {
        "id": "O3IN2jGZGQS_"
      },
      "source": [
        "# cell [9]\n",
        "\n",
        "def modulator(x_t,t):\n",
        "    # t    : Vector with time values. Refer code below. \n",
        "    # x_t  : x(t) input. Same dimensions as t. \n",
        "    \n",
        "    # EDIT HERE\n",
        "    <--->\n",
        "    return 0\n",
        "\n",
        "t = np.arange(-5, 20, 1) \n",
        " \n",
        "fig, axes  = plt.subplots(2,2, sharey='all', figsize=(20,10))\n",
        "\n",
        "# x[n]\n",
        "x_t = [function1(t_) for t_ in t]\n",
        "axes[0,0].stem(t, x_t) \n",
        "axes[0,0].set_xlabel('$n$'), axes[0,0].set_ylabel('$x[n]$'), axes[0,0].grid(True)\n",
        "\n",
        "# y[n]\n",
        "y_t = modulator(x_t,t)\n",
        "axes[0,1].stem(t, y_t) \n",
        "axes[0,1].set_xlabel('$n$'), axes[0,1].set_ylabel('$y[n]$'), axes[0,1].grid(True)\n",
        "\n",
        "# x[n - 5]\n",
        "x_t_1 = [function1(t_ - 5) for t_ in t]\n",
        "axes[1,0].stem(t, x_t_1)\n",
        "axes[1,0].set_xlabel('$n$'), axes[1,0].set_ylabel('$x[n-1]$'), axes[1,0].grid(True)\n",
        "\n",
        "# y[n - 1]\n",
        "y_t_1 = modulator(x_t_1,t)\n",
        "axes[1,1].stem(t, y_t_1)\n",
        "axes[1,1].set_xlabel('$n$'), axes[1,1].set_ylabel('$y[n-1]$'), axes[1,1].grid(True)\n",
        "\n",
        "plt.show()"
      ],
      "execution_count": null,
      "outputs": []
    },
    {
      "cell_type": "markdown",
      "metadata": {
        "id": "rHLog7ZdGQTJ"
      },
      "source": [
        "### Explain your observations about the output of the cell above."
      ]
    },
    {
      "cell_type": "markdown",
      "metadata": {
        "id": "ipJNWCmQGQTL"
      },
      "source": [
        "<--type-in your answer here-->"
      ]
    },
    {
      "cell_type": "markdown",
      "metadata": {
        "id": "ry4tfTw-GQTM"
      },
      "source": [
        "### Determine whether the following functions (systems) are time-invariant.\n",
        "\n",
        "* $y(t) = \\frac{x(t)}{t+1}$\n",
        "* $y(t) = x(t)e^{-3t}$"
      ]
    },
    {
      "cell_type": "markdown",
      "metadata": {
        "id": "2F1-PdB0GQTO"
      },
      "source": [
        "<--type-in your answer here-->"
      ]
    },
    {
      "cell_type": "markdown",
      "metadata": {
        "id": "vm_WAW6NGQTR"
      },
      "source": [
        "$\\color{red}{\\text{Please show your work up to this point to an instructor and get it marked}}$"
      ]
    },
    {
      "cell_type": "markdown",
      "metadata": {
        "id": "sHDvOm0SGQTV"
      },
      "source": [
        "# 4.0 Understanding Convolution\n",
        "\n",
        "In this section we will be exploiting the properties of linearity and time-invariance to generate the system output using only the input signal and system impulse response. This process is referred to as convolution. \n",
        "\n",
        "Decompose $x[n]$ into a sum of individual components:\n",
        "\\begin{equation*}\n",
        "x[n] =  \\sum_{k=-\\infty}^\\infty x[k] \\delta[n-k] \n",
        "\\end{equation*}\n",
        "\n",
        "If $ h[n] $ is the system reponse to an impulse $ \\delta[n] $, then the system output to input $x[n]$ can be decomposed as follows:\n",
        "\\begin{equation*}\n",
        "y[n] =  \\sum_{k=-\\infty}^\\infty x[k] h[n-k] \\\\\n",
        "y[n] = x[n] * h[n]\n",
        "\\end{equation*}\n"
      ]
    },
    {
      "cell_type": "markdown",
      "metadata": {
        "id": "shyKfU7UGQTX"
      },
      "source": [
        "## 4.1 Visualizing Convolution of Two Rectangular Functions\n",
        "\n",
        "Consider the convolution of two rectangular functions. \n",
        "\n",
        "$$y(t) = rect(t)*rect(t)$$\n",
        "\n",
        "First, let's define two rectangular functions using the following cell."
      ]
    },
    {
      "cell_type": "code",
      "metadata": {
        "id": "KNRiTfrtGQTY"
      },
      "source": [
        "# cell [10]\n",
        "\n",
        "def rect(t,w):\n",
        "    x = np.zeros(len(t))\n",
        "    for i,n in enumerate(t):\n",
        "        if n >= 0 and n < w:\n",
        "            x[i] = 1.0\n",
        "    return x\n",
        "\n",
        "# Visualize rect function\n",
        "fig, axes  = plt.subplots(1,2, sharex='all', sharey='all', figsize=(20,3))\n",
        "t = np.arange(-5,7)\n",
        "x1 = rect(t,5)\n",
        "axes[0].stem(t,x1), axes[0].set_xlabel('$n$'), axes[0].set_ylabel('$rect[n]$')\n",
        "\n",
        "# shift the rect left by 2\n",
        "x2 = rect(t+2,5)\n",
        "axes[1].stem(t,x2), axes[1].set_xlabel('$n$'), axes[1].set_ylabel('$rect[n+2]$')\n",
        "plt.show()"
      ],
      "execution_count": null,
      "outputs": []
    },
    {
      "cell_type": "markdown",
      "metadata": {
        "id": "qOlRqA5EGQTa"
      },
      "source": [
        "Using the ```conv_sum(x1, t1, x2, t2)``` function, obtain the convolution of the above two functions and plot it."
      ]
    },
    {
      "cell_type": "code",
      "metadata": {
        "scrolled": false,
        "id": "p3Z4lPcyGQTb"
      },
      "source": [
        "# cell [11]\n",
        "\n",
        "def conv_sum(x1,t1,x2,t2):\n",
        "    ty = np.arange(0,len(x1)+len(x2)-1) + t1[0]+t2[0]\n",
        "    y = np.convolve(x1, x2)\n",
        "    return y,ty\n",
        "\n",
        "# EDIT HERE\n",
        "<--->\n"
      ],
      "execution_count": null,
      "outputs": []
    },
    {
      "cell_type": "markdown",
      "metadata": {
        "id": "IEGVfHWZGQTc"
      },
      "source": [
        "## 4.2 Visualizing Convolution Step by Step\n",
        "\n",
        "Convolution requires the kernel function $h[k]$ to be reflected about the y-axis ($h[−k]$) and then shifted along the x-axis.\n",
        "\n",
        "($h[n − k]$) Observe the code in cell below and comment on the functions of ```ref(t,x)``` and ```array_shift(t1,t2,x,s)```.\n",
        "\n",
        "$$y(t) = rect(t)*rect(t)$$\n",
        "\n",
        "Edit the following cell as explained in the comments and run. Press ‘Enter’ for the next step."
      ]
    },
    {
      "cell_type": "code",
      "metadata": {
        "id": "blQcmQYlGQTe"
      },
      "source": [
        "# cell [12]\n",
        "\n",
        "import numpy as np\n",
        "import matplotlib.pyplot as plt\n",
        "from IPython import display\n",
        "\n",
        "def rect(t,w):\n",
        "    # Returns of square of width 'w' starting from t=0 for time array 't'. \n",
        "    \n",
        "    x = np.zeros(len(t))\n",
        "    for i,n in enumerate(t):\n",
        "        if n >= 0 and n < w:\n",
        "            x[i] = 1.0\n",
        "    return x\n",
        "\n",
        "def ref(t,x):\n",
        "    # Reflects x about the y axis. \n",
        "    \n",
        "    y = np.zeros(len(t))\n",
        "    for i,n in enumerate(t):\n",
        "        try:\n",
        "            ind = int(np.where(t==-n)[0])\n",
        "            y[i] = x[ind]\n",
        "        except:\n",
        "            pass\n",
        "    return y\n",
        "\n",
        "def plot_arr(t1,t2,x):\n",
        "    # Helper function needed for comparative plotting.\n",
        "    # x is the function with time vector t1.\n",
        "    # Returns y, which is x with time vector t2. \n",
        "    \n",
        "    y = np.zeros(len(t2))\n",
        "    for i,n in enumerate(t2):\n",
        "        try:\n",
        "            ind = int(np.where(t1==n)[0])\n",
        "            y[i] = x[ind]\n",
        "        except:\n",
        "            pass\n",
        "    return y\n",
        "\n",
        "\n",
        "def array_shift(t1,t2,x,s):\n",
        "    # Shifts the function by step 's' in the time axis.\n",
        "    # Adjusts time vector from t1 to t2. \n",
        "    \n",
        "    y = np.zeros(len(t2))\n",
        "    for i,n in enumerate(t2):\n",
        "        ind2 = n - s\n",
        "        try:\n",
        "            ind1 = int(np.where(t1==ind2)[0])\n",
        "            y[i] = x[ind1]\n",
        "        except:\n",
        "            pass\n",
        "    return y\n",
        "\n",
        "# Input functions and their time arrays. \n",
        "t1 = np.arange(-5,7)\n",
        "x1 = rect(t1,5)\n",
        "t2 = np.arange(-5,7)\n",
        "x2 = rect(t2+2,5)\n",
        "\n",
        "# Define output time array for visualization\n",
        "ty = np.arange(0,len(x1)+len(x2)-1) + t1[0]+t2[0]\n",
        "\n",
        "#  EDIT HERE\n",
        "# Obtain x1[k] by adjusting the time vector of x1 to ty. Hint: 'plot_arr' function. \n",
        "x1_k = 0\n",
        "# Obtain x2[-k] by reflecting x2 about the y axis. Hint: 'ref' function. \n",
        "x2_ref = 0\n",
        "\n",
        "y = np.zeros(len(ty))\n",
        "\n",
        "for i in range(len(ty)):\n",
        "    # Calculate x2[n-k] by shifting x2_ref along x-axis. \n",
        "    x2_ref_shift = array_shift(t2,ty,x2_ref,ty[i])\n",
        "    \n",
        "    # Calculate the dot product of x1[k] and x2[n-k]. Change the d variable here\n",
        "    d = 0 # EDIT HERE\n",
        "    y[i] = d\n",
        "    \n",
        "    fig, axes  = plt.subplots(3,1, sharex='all', sharey='all', figsize=(13,7))\n",
        "    axes[0].stem(ty,x1_k), axes[0].set_xlabel('$t$'), axes[0].set_ylabel('$x1$')\n",
        "    axes[1].stem(ty,x2_ref_shift), axes[1].set_xlabel('$t$'), axes[1].set_ylabel('$x2\\_ref\\_shift$')\n",
        "    axes[2].stem(ty,y), axes[2].set_xlabel('$t$'), axes[2].set_ylabel('$x1 * x2$')\n",
        "\n",
        "    display.display(plt.gcf())\n",
        "    display.clear_output(wait=True)\n",
        "    plt.show()\n",
        "    \n",
        "    input(\"Press Enter to continue...\")\n",
        "    "
      ],
      "execution_count": null,
      "outputs": []
    },
    {
      "cell_type": "markdown",
      "metadata": {
        "id": "-gFCsvi5GQTg"
      },
      "source": [
        "$\\color{red}{\\text{Please show your work up to this point to an instructor and get it marked}}$"
      ]
    },
    {
      "cell_type": "markdown",
      "metadata": {
        "id": "Pm9cZOvBGQTi"
      },
      "source": [
        "\n",
        "# 5.0 Signal processing in the Frequency Domain\n",
        " \n",
        "Discrete time Fourier Transform of  $x[n]$ can be obtained as follows:\n",
        "\\begin{equation*}\n",
        "X[\\Omega] = \\sum_{n=-\\infty}^\\infty x[n] e^{-j \\Omega n}\n",
        "\\end{equation*}\n",
        "\n",
        "Convolution in the time domain is equivalant to multiplication in the frequency domain:\n",
        "\\begin{equation*}\n",
        "x[n] * h[n] = \\mathcal{F}^{-1}\\{ X[\\Omega] \\times H[\\Omega] \\}\n",
        "\\end{equation*}\n"
      ]
    },
    {
      "cell_type": "markdown",
      "metadata": {
        "id": "kBiYv9c0GQTk"
      },
      "source": [
        "## 5.1 Observing two signals in the Frequency Domain\n",
        "\n",
        "Obtain the following signals and visualize them in the frequency domain by running the cell below.\n",
        "\n",
        "* $x_1[n] = \\cos(\\omega n) + \\cos(3\\omega n)$\n",
        "* $x_2[n] = 0.5 + \\cos(3\\omega n)$\n",
        "\n",
        "$$x_1[n] \\to X_1(\\Omega)$$\n",
        "$$x_2[n] \\to X_2(\\Omega)$$\n"
      ]
    },
    {
      "cell_type": "code",
      "metadata": {
        "id": "9TV5MMOoGQTn"
      },
      "source": [
        "# cell [13]\n",
        "\n",
        "%matplotlib inline\n",
        "import numpy as np\n",
        "import matplotlib.pyplot as plt\n",
        "\n",
        "n = np.arange(-100., 100., 1) \n",
        "f = 1/100 # 0.01 Hz\n",
        "omega = 2*np.pi*f\n",
        "\n",
        "# EDIT HERE\n",
        "x1_n = 0\n",
        "x2_n = 0\n",
        "\n",
        "# Obtain frequency domain representations of x1[n] and x2[n]\n",
        "X1_f = np.fft.fft(x1_n)\n",
        "X2_f = np.fft.fft(x2_n)\n",
        "\n",
        "# Visualize\n",
        "freq = np.fft.fftfreq(n.shape[-1], d=1)\n",
        "valsubrange = np.concatenate((np.arange(0,9,1), np.arange(-1,-9,-1)))\n",
        "freqsubrage = np.concatenate((np.arange(0,9,1), np.arange(-1,-9,-1)))\n",
        "fig, axes  = plt.subplots(2,2, sharey='all', figsize=(20,10))\n",
        "\n",
        "# x1[n]\n",
        "axes[0,0].plot(n,x1_n) \n",
        "axes[0,0].set_xlabel('$t$'), axes[0,0].set_ylabel('$x1(t)$'), axes[0,0].grid(True)\n",
        "\n",
        "# X1(jw)\n",
        "axes[0,1].stem(freq[freqsubrage], X1_f.real[valsubrange]/len(n))\n",
        "axes[0,1].set_xlabel('$f$ (Hz)'), axes[0,1].set_ylabel('$\\mathfrak{Re}(X1(j\\omega))$'), axes[0,1].grid(True)\n",
        "\n",
        "# x2[n]\n",
        "axes[1,0].plot(n,x2_n)\n",
        "axes[1,0].set_xlabel('$t$'), axes[1,0].set_ylabel('$x2(t)$'), axes[1,0].grid(True)\n",
        "\n",
        "# X2(jw)\n",
        "axes[1,1].stem(freq[freqsubrage], X2_f.real[valsubrange]/len(n))\n",
        "axes[1,1].set_xlabel('$f$ (Hz)'), axes[1,1].set_ylabel('$\\mathfrak{Re}(X2(j\\omega))$'), axes[1,1].grid(True)\n",
        "\n",
        "plt.show()\n"
      ],
      "execution_count": null,
      "outputs": []
    },
    {
      "cell_type": "markdown",
      "metadata": {
        "id": "YwLkwhWEGQTo"
      },
      "source": [
        "## 5.2 Covolution of above Signals by Multiplication in the Frequency Domain\n",
        "\n",
        "Edit the following cell to multiply the two signals in frequency domain.\n",
        "\n",
        "$$x_1[n] * x_2[n] \\to X_1(\\Omega) \\times X_2(\\Omega)$$"
      ]
    },
    {
      "cell_type": "code",
      "metadata": {
        "id": "FgwFMhRmGQTp"
      },
      "source": [
        "# cell [14]\n",
        "\n",
        "# Multiply the frequency domain representations of x1[n] and x2[n]\n",
        "# EDIT HERE\n",
        "X1_X2_f = <-->\n",
        "\n",
        "# Take inverse fft to visualize in time domain\n",
        "z = np.fft.ifft(X1_X2_f).real\n",
        "fig2, axes2  = plt.subplots(1,2, sharey='all', figsize=(20,5))\n",
        "axes2[0].plot(n, z, label='$z[n]$')\n",
        "\n",
        "z_f = np.fft.fft(z)\n",
        "axes2[1].stem(freq[freqsubrage], z_f.real[valsubrange]/len(n))"
      ],
      "execution_count": null,
      "outputs": []
    },
    {
      "cell_type": "markdown",
      "metadata": {
        "id": "E7KHOQV5GQTq"
      },
      "source": [
        "Explain the observations you made in the above cell output."
      ]
    },
    {
      "cell_type": "markdown",
      "metadata": {
        "id": "irGo6lHFGQTr"
      },
      "source": [
        "<--type-in your answer here-->"
      ]
    },
    {
      "cell_type": "markdown",
      "metadata": {
        "id": "i6D9FCDXGQTs"
      },
      "source": [
        "$\\color{red}{\\text{Please show your work up to this point to an instructor and get it marked}}$"
      ]
    },
    {
      "cell_type": "markdown",
      "metadata": {
        "id": "1n9eJ-gAGQTt"
      },
      "source": [
        "\n",
        "# 6.0 A Real-world Application (Equalizer)\n",
        "\n",
        "Equalizing in audio engineering refers to manipulating the frequency components of an audio to get a desirable output. Specifically, equalizing is used to boost or suppress the energy (amplitude) of different frequency components, which may correspond to a specific sound source.\n",
        "\n",
        "Equalizers are the devices that enable this equalization process. The controllers on the device enable adjustment of gain (boost) given to each frequency band that is present in the audio.\n",
        "\n",
        "In this section we will look into a simple non-real-time implementation of an equalizer, using a filter bank. The filter bank consists of 10 filters, which separates out the audio input signal into 10 equal-width frequency bands. By adjusting the gain applied for each filter, we are able to control the boost given to the aforementioned frequency bands in the audio signal\n"
      ]
    },
    {
      "cell_type": "markdown",
      "metadata": {
        "id": "Irsfog04GQTu"
      },
      "source": [
        "Run cell [[15]] to load the “africa-toto.wav” file and create a ```PyAudio``` stream. ```PyAudio``` is used to play the loaded wav file. This cell also defines some variables such as ```n_channels```, ```fs``` and chunk that will be used in the following cells. Note that ```fs``` is the sample rate of the audio."
      ]
    },
    {
      "cell_type": "code",
      "metadata": {
        "id": "dtVJcs3bJdMb"
      },
      "source": [
        "!apt install libasound2-dev portaudio19-dev libportaudio2 libportaudiocpp0 ffmpeg"
      ],
      "execution_count": null,
      "outputs": []
    },
    {
      "cell_type": "code",
      "metadata": {
        "id": "7wLk35IzJxkd"
      },
      "source": [
        "!pip install pyaudio"
      ],
      "execution_count": null,
      "outputs": []
    },
    {
      "cell_type": "code",
      "metadata": {
        "id": "CVwtq1bzGQTv"
      },
      "source": [
        "# cell [15]\n",
        "\n",
        "import numpy as np\n",
        "import pyaudio\n",
        "import wave\n",
        "from scipy.fftpack import fft, fftshift, ifft\n",
        "from scipy import signal\n",
        "import scipy.io.wavfile as sw\n",
        "import matplotlib.pyplot as plt\n",
        "import struct\n",
        "\n",
        "# set up to read an audio file\n",
        "\n",
        "# open wav file\n",
        "wf = wave.open(\"./africa-toto.wav\", 'rb')\n",
        "# wf = wave.open(\"./africa-toto.wav\", 'rb')\n",
        "# wf = wave.open(\"./symphony-orchestra-tuning.wav\", 'rb')\n",
        "\n",
        "channels=wf.getnchannels()\n",
        "dtype = '<i2' # little-endian two-byte (int16) signed integers \n",
        "\n",
        "n_channels=wf.getnchannels() # no. of chennels in the audio\n",
        "fs = wf.getframerate() # frame rate of audio \n",
        "chunk = fs # no. of audio frames played at a time\n",
        "\n",
        "# instantiate PyAudio (for playing the sound track)\n",
        "p = pyaudio.PyAudio()\n",
        "stream = np.array(np.zeros(n_channels), dtype=np.int16)\n",
        "\n",
        "# open stream (for playing the sound track)\n"
      ],
      "execution_count": null,
      "outputs": []
    },
    {
      "cell_type": "markdown",
      "metadata": {
        "id": "dGy3sZAUGQTx"
      },
      "source": [
        "Cell [[16]] collects the audio samples as numerical values to the numpy array ```x```. Variables ```start``` and ```dur``` describe the audio segment that we use in our experiment from the original wav file."
      ]
    },
    {
      "cell_type": "code",
      "metadata": {
        "id": "qHcjd8HpGQTy"
      },
      "source": [
        "# cell [16]\n",
        "\n",
        "# reading the audio file\n",
        "\n",
        "start = 200 # audio starting time frame (s)\n",
        "dur = 10 # duration selected (s)\n",
        "\n",
        "wf.rewind() # reset readframe positin to the begining of the file\n",
        "wf.setpos(wf.tell()+start*fs) # seek to the needed starting position\n",
        "\n",
        "x = np.array([]) # initialize audio signal array\n",
        "for i in range(0, dur):\n",
        "    data = wf.readframes(chunk) # read an audio frame chunk\n",
        "    if data == '': # if the audio samples ended\n",
        "        break\n",
        "    sig_chunk = np.asarray(np.frombuffer(data, dtype=dtype)) # convert the frame chunk into a numpy array\n",
        "    x = np.concatenate((x, sig_chunk)) # add the signal chunk to the signal array\n",
        "    #stream.write(data) # play the audio chunk"
      ],
      "execution_count": null,
      "outputs": []
    },
    {
      "cell_type": "markdown",
      "metadata": {
        "id": "5Pf1XplgGQT2"
      },
      "source": [
        "Cell [[17]] generates a time domain visualization of the audio segment played. Examine the variables defined in the cell and identify their significance."
      ]
    },
    {
      "cell_type": "code",
      "metadata": {
        "id": "VWEFIumoGQT5"
      },
      "source": [
        "# cell [17]\n",
        "\n",
        "# ploting original audio in time domain\n",
        "\n",
        "N = len(x) # number of audio samples (frames)\n",
        "T = 1/fs # time interval between frames\n",
        "t = np.linspace(0.0, N*T, N) # time axis for audio\n",
        "\n",
        "# plot original audio in time doamin\n",
        "fig, ax = plt.subplots(1, 1, figsize=(18,9))\n",
        "ax.grid(True)\n",
        "ax.plot(t, x, 'y')\n",
        "ax.set_xlabel('t (s)')\n",
        "plt.show()"
      ],
      "execution_count": null,
      "outputs": []
    },
    {
      "cell_type": "markdown",
      "metadata": {
        "id": "c5bJU-F5GQT7"
      },
      "source": [
        "Cell [[18]] generates a frequency domain visualization of the audio segment played. Examine the variables defined in the cell and identify their significance. Observe the frequency distribution for the audio sample played."
      ]
    },
    {
      "cell_type": "code",
      "metadata": {
        "scrolled": false,
        "id": "X2pzmTs7GQT9"
      },
      "source": [
        "# cell [18]\n",
        "\n",
        "# ploting original audio in frequency domain \n",
        "\n",
        "f = np.linspace(-fs/2, fs/2+1, N) # frequency axis for audio\n",
        "xf = np.fft.fft(x) # fft command converts x into the fourier domain (X)\n",
        "\n",
        "n_filters = 10 # no. of filters (to be ued in the filter bank in the equalizer)\n",
        "fc_list = np.linspace(0, fs/2+1, n_filters+1) # cutoff frequencies for the filters in filter bank\n",
        "\n",
        "fig, ax = plt.subplots(1, 1, figsize=(18,9))\n",
        "ax.grid(True)\n",
        "ax.plot(f[N//2:], 2.0/N * np.abs(xf[0:N//2]))\n",
        "yy = np.arange(0, ax.get_ylim()[1])\n",
        "xx = np.ones(yy.shape)\n",
        "for fc in fc_list:\n",
        "    ax.plot(fc*xx, yy, 'k--')\n",
        "ax.set_xlabel('f (Hz)')\n",
        "plt.show()"
      ],
      "execution_count": null,
      "outputs": []
    },
    {
      "cell_type": "markdown",
      "metadata": {
        "id": "3v8wzSNOGQT_"
      },
      "source": [
        "In cell [[19]], complete the function ```ideal_filter(f, fc1, fc2)``` that returns the gain for given frequency input ```f```, in a filter defined by the cut-off frequencies ```fc1```, ```fc2```. Assume these cut-off frequencies are the two limits of a passband.\n",
        "\n",
        "$$\n",
        "H(f) = \n",
        "\\begin{cases}\n",
        "    1, & \\text{if } f_{c1} < |f| < f_{c2} \\\\\n",
        "    0,              & \\text{otherwise}\n",
        "\\end{cases}\n",
        "$$"
      ]
    },
    {
      "cell_type": "markdown",
      "metadata": {
        "id": "jiB6mDeNGQUA"
      },
      "source": [
        "In cell [[19]] , complete the function ```equalizer(H, gains, sig)``` to create the equalizer. The equalizer takes in the filter bank ```filter_bank```, the corresponding gains gains and the audio signal to be equalized ```sig``` as inputs. Attribute each gain to the corresponding filter and then filter the input signal using the modified filters. Then obtain the desired equalized signals by combining the outputs of each filter in the modified filter bank. **Do not** use loops to complete the function.\n"
      ]
    },
    {
      "cell_type": "code",
      "metadata": {
        "id": "toolSGvUGQUB"
      },
      "source": [
        "# cell [19]\n",
        "\n",
        "# ideal filter\n",
        "\n",
        "def ideal_filter(f, fc1, fc2):    \n",
        "    gain = 0\n",
        "    #  EDIT HERE\n",
        "    return gain\n",
        "\n",
        "# equalizer\n",
        "def equalizer(filter_bank, gains, sig):\n",
        "    \n",
        "    filter_bank = np.array(filter_bank)\n",
        "    gains = np.array(gains)\n",
        "    # EDIT HERE\n",
        "            \n",
        "    return equilized_sig "
      ],
      "execution_count": null,
      "outputs": []
    },
    {
      "cell_type": "markdown",
      "metadata": {
        "id": "A5cBq6BUGQUC"
      },
      "source": [
        "Cell [20] creates the filter bank consisting 10 filters, which are defined by the cut off frequencies in ```fc_list``` (refer to cell [8])."
      ]
    },
    {
      "cell_type": "code",
      "metadata": {
        "id": "DIcvF7ZXGQUE"
      },
      "source": [
        "# cell [20]\n",
        "\n",
        "# filter bank\n",
        "\n",
        "filter_bank = []\n",
        "for i in range(n_filters):\n",
        "    H_i = [ideal_filter(f_, fc_list[i], fc_list[i+1]) for f_ in f] # filter with ith & (i+1)th cut off frequencies\n",
        "    filter_bank.append(H_i)"
      ],
      "execution_count": null,
      "outputs": []
    },
    {
      "cell_type": "markdown",
      "metadata": {
        "id": "R8gSZKS6GQUG"
      },
      "source": [
        "Cell [21] creates the list of gains ```gains``` that are to be attributed to each filter in the filter bank. Change the values in this list to change the gains provided to each frequency band in the audio sample."
      ]
    },
    {
      "cell_type": "code",
      "metadata": {
        "id": "avpEPLWwGQUI"
      },
      "source": [
        "# cell [21]\n",
        "\n",
        "# equalizer gains\n",
        "gains = [0.5, 0, 0, 0, 5, 0, 0, 0, 1, 1] # CHANGE HERE\n",
        "gains = np.array(gains).reshape([len(gains), 1])\n"
      ],
      "execution_count": null,
      "outputs": []
    },
    {
      "cell_type": "markdown",
      "metadata": {
        "id": "2JXai_6sGQUJ"
      },
      "source": [
        "Run cell [22] to equalize the audio sample with the assigned gains. Then run cell [23] to visualize the equalized audio sample in the frequency domain."
      ]
    },
    {
      "cell_type": "code",
      "metadata": {
        "id": "vzDw2hF0GQUK"
      },
      "source": [
        "# cell [22]\n",
        "\n",
        "# equalize audio\n",
        "\n",
        "equilized_sig = equalizer(filter_bank, gains, np.fft.fftshift(xf))"
      ],
      "execution_count": null,
      "outputs": []
    },
    {
      "cell_type": "code",
      "metadata": {
        "scrolled": false,
        "id": "3jmtQjWRGQUL"
      },
      "source": [
        "# cell [23]\n",
        "\n",
        "# visualize equalized signal in frequancy domain\n",
        "\n",
        "fig, ax = plt.subplots(1, 1, figsize=(18,9))\n",
        "ax.grid(True)\n",
        "ax.plot(f[N//2:], 2.0/N *np.abs(np.fft.fftshift(equilized_sig)[0:N//2]))\n",
        "yy = np.arange(0, ax.get_ylim()[1])\n",
        "xx = np.ones(yy.shape)\n",
        "for fc in fc_list:\n",
        "    ax.plot(fc*xx, yy, 'k--')\n",
        "ax.set_xlabel('f (Hz)')\n",
        "plt.show()"
      ],
      "execution_count": null,
      "outputs": []
    },
    {
      "cell_type": "markdown",
      "metadata": {
        "id": "d3cbEVPHGQUM"
      },
      "source": [
        "Run cell [24] to play the equalized audio sample."
      ]
    },
    {
      "cell_type": "code",
      "metadata": {
        "id": "I-C6aOhRGQUN"
      },
      "source": [
        "# cell [24]\n",
        "\n",
        "# play equalized audio\n",
        "\n",
        "equi_audio = np.fft.ifft(np.fft.fftshift(equilized_sig)) # convert to time domain\n",
        "z_int16 = equi_audio.astype(np.int16)   \n",
        "z_byte  = z_int16.tobytes()\n",
        "p.terminate()\n",
        "wf.close()\n",
        "wfo = wave.open(\"equilized.wav\", 'wb') # writing the bot stream to a output wav file\n",
        "wfo.setnchannels(n_channels)\n",
        "wfo.setsampwidth(wf.getsampwidth())\n",
        "wfo.setframerate(wf.getframerate())\n",
        "wfo.writeframes(z_byte)\n",
        "wfo.close()\n",
        "\n",
        "Audio('equilized.wav')"
      ],
      "execution_count": null,
      "outputs": []
    },
    {
      "cell_type": "markdown",
      "metadata": {
        "id": "t6mRppkUGQUP"
      },
      "source": [
        "Change the gain attributed to each band by modifying ```gains``` array in cell [21] and\n",
        "observe the changes in the audio."
      ]
    },
    {
      "cell_type": "markdown",
      "metadata": {
        "id": "xWbzloP5GQUQ"
      },
      "source": [
        "# References\n",
        "\n",
        "[[1]] Oppenheim, A. V., Willsky, A. S., & Young, I. T. (1983). Signals and systems. Englewood Cliffs, N.J: Prentice-Hall."
      ]
    }
  ]
}